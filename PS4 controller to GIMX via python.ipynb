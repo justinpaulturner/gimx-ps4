{
 "cells": [
  {
   "cell_type": "code",
   "execution_count": 1,
   "metadata": {},
   "outputs": [],
   "source": [
    "import socket\n",
    "from enum import IntEnum\n",
    "from time import sleep\n",
    "import struct\n",
    "import sys\n",
    "\n",
    "DEFAULT_IP = \"127.0.0.1\"\n",
    "DEFAULT_PORT = 51914\n",
    "\n",
    "class Ps4Controls(IntEnum):\n",
    "    LEFT_STICK_X = 0\n",
    "    LEFT_STICK_Y = 1\n",
    "    RIGHT_STICK_X = 2\n",
    "    RIGHT_STICK_Y = 3\n",
    "    FINGER1_X = 4\n",
    "    FINGER1_Y = 5\n",
    "    FINGER2_X = 6\n",
    "    FINGER2_Y = 7\n",
    "    SHARE = 128\n",
    "    OPTIONS = 129\n",
    "    PS = 130\n",
    "    UP = 131\n",
    "    RIGHT = 132\n",
    "    DOWN = 133\n",
    "    LEFT = 134\n",
    "    TRIANGLE = 135\n",
    "    CIRCLE = 136\n",
    "    CROSS = 137\n",
    "    SQUARE = 138\n",
    "    L1 = 139\n",
    "    R1 = 140\n",
    "    L2 = 141\n",
    "    R2 = 142\n",
    "    L3 = 143\n",
    "    R3 = 144\n",
    "    TOUCHPAD = 145\n",
    "    FINGER1 = 146\n",
    "    FINGER2 = 147\n",
    "    \n",
    "class ButtonState(IntEnum):\n",
    "    RELEASED = 0\n",
    "    PRESSED = 255\n",
    "\n",
    "\n",
    "def send_message(ip, port, changes):\n",
    "    \n",
    "    packet = bytearray([0x01, len(changes)])  # type + axis count\n",
    "    \n",
    "    for axis, value in changes.items():\n",
    "        # axis + value (network byte order)\n",
    "        packet.extend([axis, (value & 0xff000000) >> 24, (value & 0xff0000) >> 16, (value & 0xff00) >> 8, (value & 0xff)])\n",
    "\n",
    "    sock = socket.socket(socket.AF_INET, socket.SOCK_DGRAM)\n",
    "    sock.sendto(packet, (ip, port))\n",
    "\n",
    "\n",
    "def check_status(ip, port):\n",
    "    \n",
    "    packet = bytearray([0x00, 0x00])\n",
    "    sock = socket.socket(socket.AF_INET, socket.SOCK_DGRAM)\n",
    "    sock.connect((ip, port))\n",
    "    sock.send(packet)\n",
    "    timeval = struct.pack('ll', 1, 0)  # seconds and microseconds\n",
    "    sock.setsockopt(socket.SOL_SOCKET, socket.SO_RCVTIMEO, timeval)\n",
    "    try:\n",
    "        data, (address, port) = sock.recvfrom(2)\n",
    "        response = bytearray(data)\n",
    "        if (response[0] != 0x00):\n",
    "            print(\"Invalid reply code: {0}\".format(response[0]))\n",
    "            return 1\n",
    "    except socket.error as err:\n",
    "        print(err)\n",
    "    \n",
    "    return 0\n",
    "\n",
    "ip = DEFAULT_IP\n",
    "port = DEFAULT_PORT\n",
    "\n",
    "if check_status(ip, port):\n",
    "    sys.exit(-1)"
   ]
  },
  {
   "cell_type": "code",
   "execution_count": 2,
   "metadata": {},
   "outputs": [],
   "source": [
    "def bool_to_button(_bool):\n",
    "    return int(_bool)*255\n",
    "\n",
    "def parse_button_dict(button_dict):\n",
    "    \"\"\"\n",
    "    Returns a dict with the names of the buttons as keys and the values as integers.\n",
    "    \"\"\"\n",
    "    name_dict = {}\n",
    "    for key in button_dict.keys():\n",
    "        if key == 0:\n",
    "            name_dict[\"cross\"] = bool_to_button(button_dict[key])\n",
    "        if key == 1:\n",
    "            name_dict[\"circle\"] = bool_to_button(button_dict[key])\n",
    "        if key == 2:\n",
    "            name_dict[\"triangle\"] = bool_to_button(button_dict[key])\n",
    "        if key == 3:\n",
    "            name_dict[\"square\"] = bool_to_button(button_dict[key])\n",
    "        if key == 4:\n",
    "            name_dict[\"l1\"] = bool_to_button(button_dict[key])\n",
    "        if key == 5:\n",
    "            name_dict[\"r1\"] = bool_to_button(button_dict[key])\n",
    "        if key == 6:\n",
    "            name_dict[\"l2\"] = bool_to_button(button_dict[key])\n",
    "        if key == 7:\n",
    "            name_dict[\"r2\"] = bool_to_button(button_dict[key])\n",
    "        if key == 8:\n",
    "            name_dict[\"share\"] = bool_to_button(button_dict[key])\n",
    "        if key == 9:\n",
    "            name_dict[\"options\"] = bool_to_button(button_dict[key])\n",
    "        if key == 10:\n",
    "            name_dict[\"PS\"] = bool_to_button(button_dict[key])\n",
    "        if key == 11:\n",
    "            name_dict[\"l3\"] = bool_to_button(button_dict[key])\n",
    "        if key == 12:\n",
    "            name_dict[\"r3\"] = bool_to_button(button_dict[key])\n",
    "    return name_dict"
   ]
  },
  {
   "cell_type": "code",
   "execution_count": 3,
   "metadata": {},
   "outputs": [],
   "source": [
    "def bool_to_axis(_bool):\n",
    "    return int(_bool)*127\n",
    "\n",
    "def axis_parser(axis_dict):\n",
    "    \"\"\"\n",
    "    Returns a dict with the names of the axes as keys and the values scaled properly.\n",
    "    \"\"\"\n",
    "    name_dict = {}\n",
    "    for key in axis_dict.keys():\n",
    "        if key == 0:\n",
    "            name_dict[\"LEFT_STICK_X\"] = int(axis_dict[key]*127)\n",
    "        if key == 1:\n",
    "            name_dict[\"LEFT_STICK_Y\"] = int(axis_dict[key]*127)\n",
    "        if key == 3:\n",
    "            name_dict[\"RIGHT_STICK_X\"] = int(axis_dict[key]*127)\n",
    "        if key == 4:\n",
    "            name_dict[\"RIGHT_STICK_Y\"] = int(axis_dict[key]*127)\n",
    "    return name_dict"
   ]
  },
  {
   "cell_type": "code",
   "execution_count": 4,
   "metadata": {},
   "outputs": [],
   "source": [
    "def parse_arrow_dict(arrow_dict):\n",
    "    name_dict = {}\n",
    "    name_dict[\"left\"] = 255 if arrow_dict[0][0] == -1 else 0\n",
    "    name_dict[\"right\"] = 255 if arrow_dict[0][0] == 1 else 0\n",
    "    name_dict[\"up\"] = 255 if arrow_dict[0][1] == 1 else 0\n",
    "    name_dict[\"down\"] = 255 if arrow_dict[0][1] == -1 else 0\n",
    "    return name_dict"
   ]
  },
  {
   "cell_type": "code",
   "execution_count": null,
   "metadata": {},
   "outputs": [],
   "source": [
    "import os\n",
    "import pprint\n",
    "import pygame\n",
    "import time\n",
    "\n",
    "class PS4Controller(object):\n",
    "    \"\"\"Class representing the PS4 controller. Pretty straightforward functionality.\"\"\"\n",
    "\n",
    "    controller = None\n",
    "    axis_data = None\n",
    "    button_data = None\n",
    "    hat_data = None\n",
    "\n",
    "    def init(self):\n",
    "        \"\"\"Initialize the joystick components\"\"\"\n",
    "        \n",
    "        pygame.init()\n",
    "        pygame.joystick.init()\n",
    "        self.controller = pygame.joystick.Joystick(0)\n",
    "        self.controller.init()\n",
    "\n",
    "    def listen(self):\n",
    "        \"\"\"Listen for events to happen\"\"\"\n",
    "        \n",
    "        if not self.axis_data:\n",
    "            self.axis_data = {0:0,1:0,3:0,4:0}\n",
    "\n",
    "        if not self.button_data:\n",
    "            self.button_data = {}\n",
    "            for i in range(self.controller.get_numbuttons()):\n",
    "                self.button_data[i] = False\n",
    "\n",
    "        if not self.hat_data:\n",
    "            self.hat_data = {}\n",
    "            for i in range(self.controller.get_numhats()):\n",
    "                self.hat_data[i] = (0, 0)\n",
    "                \n",
    "        millis = 0\n",
    "\n",
    "        while True:\n",
    "            for event in pygame.event.get():\n",
    "                if event.type == pygame.JOYAXISMOTION:\n",
    "                    self.axis_data[event.axis] = round(event.value,1)\n",
    "                elif event.type == pygame.JOYBUTTONDOWN:\n",
    "                    self.button_data[event.button] = True\n",
    "                elif event.type == pygame.JOYBUTTONUP:\n",
    "                    self.button_data[event.button] = False\n",
    "                elif event.type == pygame.JOYHATMOTION:\n",
    "                    self.hat_data[event.hat] = event.value\n",
    "\n",
    "                # Insert your code on what you would like to happen for each event here!\n",
    "                # In the current setup, I have the state simply printing out to the screen.\n",
    "                \n",
    "                os.system('clear')\n",
    "                print(self.button_data,self.axis_data,self.hat_data, (\" \"*150), end='\\r' )\n",
    "                b_dict = parse_button_dict(self.button_data)\n",
    "                a_dict = axis_parser(self.axis_data)\n",
    "                ar_dict = parse_arrow_dict(self.hat_data)\n",
    "                state = {\n",
    "                    Ps4Controls.LEFT_STICK_X : a_dict[\"LEFT_STICK_X\"],\n",
    "                    Ps4Controls.LEFT_STICK_Y : a_dict[\"LEFT_STICK_Y\"],\n",
    "                    Ps4Controls.RIGHT_STICK_X : a_dict[\"RIGHT_STICK_X\"],\n",
    "                    Ps4Controls.RIGHT_STICK_Y : a_dict[\"RIGHT_STICK_Y\"],\n",
    "                    Ps4Controls.SHARE : b_dict['share'],\n",
    "                    Ps4Controls.OPTIONS : b_dict['options'],\n",
    "                    Ps4Controls.PS : b_dict['PS'],\n",
    "                    Ps4Controls.UP : ar_dict['up'],\n",
    "                    Ps4Controls.RIGHT : ar_dict['right'],\n",
    "                    Ps4Controls.DOWN : ar_dict['down'],\n",
    "                    Ps4Controls.LEFT : ar_dict['left'],\n",
    "                    Ps4Controls.TRIANGLE : b_dict['triangle'],\n",
    "                    Ps4Controls.CIRCLE : b_dict['circle'],\n",
    "                    Ps4Controls.CROSS : b_dict['cross'],\n",
    "                    Ps4Controls.SQUARE : b_dict['square'],\n",
    "                    Ps4Controls.L1 : b_dict['l1'],\n",
    "                    Ps4Controls.R1 : b_dict['r1'],\n",
    "                    Ps4Controls.L2 : b_dict['l2'],\n",
    "                    Ps4Controls.R2 : b_dict['r2'],\n",
    "                    Ps4Controls.L3 : b_dict['l3'],\n",
    "                    Ps4Controls.R3 : b_dict['r3'],\n",
    "                    }\n",
    "                if (curr_time := int(round(time.time() * 1000))) > millis+10:\n",
    "                    millis = curr_time\n",
    "                    send_message(ip, port, state)\n",
    "                    print(f\"sent at {millis}\", end='\\r')\n",
    "\n",
    "if __name__ == \"__main__\":\n",
    "    ps4 = PS4Controller()\n",
    "    ps4.init()\n",
    "    ps4.listen()"
   ]
  },
  {
   "cell_type": "code",
   "execution_count": null,
   "metadata": {},
   "outputs": [],
   "source": [
    "button_dict = {0: True, 1: False, 2: False, 3: False, 4: False, 5: False, 6: False, 7: False, 8: False, 9: False, 10: False, 11: False, 12: False} \n",
    "axis_dict = {0: -0.18, 1: 0.8, 3: 1.0, 4: 0.5} \n",
    "arrow_dict = {0: (1, -1)}"
   ]
  },
  {
   "cell_type": "code",
   "execution_count": null,
   "metadata": {},
   "outputs": [],
   "source": [
    "parse_button_dict(button_dict)"
   ]
  },
  {
   "cell_type": "code",
   "execution_count": null,
   "metadata": {},
   "outputs": [],
   "source": [
    "axis_dict = {0: -0.18, 1: 0.8, 3: 1.0, 4: 0.5} "
   ]
  },
  {
   "cell_type": "code",
   "execution_count": null,
   "metadata": {},
   "outputs": [],
   "source": [
    "axis_parser(axis_dict)"
   ]
  },
  {
   "cell_type": "code",
   "execution_count": null,
   "metadata": {},
   "outputs": [],
   "source": [
    "arrow_dict = {0: (1, -1)}"
   ]
  },
  {
   "cell_type": "code",
   "execution_count": null,
   "metadata": {},
   "outputs": [],
   "source": [
    "parse_arrow_dict(arrow_dict)"
   ]
  },
  {
   "cell_type": "code",
   "execution_count": null,
   "metadata": {},
   "outputs": [],
   "source": [
    "button_dict = {0: True, 1: False, 2: False, 3: False, 4: False, 5: False, 6: False, 7: False, 8: False, 9: False, 10: False, 11: False, 12: False} \n",
    "axis_dict = {0: -0.18, 1: 0.8, 3: 1.0, 4: 0.5} \n",
    "arrow_dict = {0: (1, -1)}"
   ]
  },
  {
   "cell_type": "code",
   "execution_count": null,
   "metadata": {},
   "outputs": [],
   "source": [
    "state"
   ]
  },
  {
   "cell_type": "code",
   "execution_count": null,
   "metadata": {},
   "outputs": [],
   "source": [
    "state = {\n",
    "    Ps4Controls.LEFT_STICK_X : 0,\n",
    "    Ps4Controls.LEFT_STICK_Y : 0,\n",
    "    Ps4Controls.RIGHT_STICK_X : 0,\n",
    "    Ps4Controls.RIGHT_STICK_Y : 0,\n",
    "    Ps4Controls.SHARE : ButtonState.RELEASED,\n",
    "    Ps4Controls.OPTIONS : ButtonState.RELEASED,\n",
    "    Ps4Controls.PS : ButtonState.RELEASED,\n",
    "    Ps4Controls.UP : ButtonState.RELEASED,\n",
    "    Ps4Controls.RIGHT : ButtonState.RELEASED,\n",
    "    Ps4Controls.DOWN : ButtonState.RELEASED,\n",
    "    Ps4Controls.LEFT : ButtonState.RELEASED,\n",
    "    Ps4Controls.TRIANGLE : ButtonState.RELEASED,\n",
    "    Ps4Controls.CIRCLE : ButtonState.RELEASED,\n",
    "    Ps4Controls.CROSS : ButtonState.RELEASED,\n",
    "    Ps4Controls.SQUARE : ButtonState.RELEASED,\n",
    "    Ps4Controls.L1 : ButtonState.RELEASED,\n",
    "    Ps4Controls.R1 : ButtonState.RELEASED,\n",
    "    Ps4Controls.L2 : ButtonState.RELEASED,\n",
    "    Ps4Controls.R2 : ButtonState.RELEASED,\n",
    "    Ps4Controls.L3 : ButtonState.RELEASED,\n",
    "    Ps4Controls.R3 : ButtonState.RELEASED,\n",
    "    }"
   ]
  },
  {
   "cell_type": "code",
   "execution_count": 10,
   "metadata": {},
   "outputs": [
    {
     "name": "stdout",
     "output_type": "stream",
     "text": [
      "1610600629694\n"
     ]
    }
   ],
   "source": [
    "import time\n",
    "millis = int(round(time.time() * 1000))\n",
    "print(millis)"
   ]
  },
  {
   "cell_type": "code",
   "execution_count": 20,
   "metadata": {},
   "outputs": [
    {
     "name": "stdout",
     "output_type": "stream",
     "text": [
      "1610601195128\r"
     ]
    },
    {
     "ename": "KeyboardInterrupt",
     "evalue": "",
     "output_type": "error",
     "traceback": [
      "\u001b[0;31m---------------------------------------------------------------------------\u001b[0m",
      "\u001b[0;31mKeyboardInterrupt\u001b[0m                         Traceback (most recent call last)",
      "\u001b[0;32m<ipython-input-20-b7a5ec12c91f>\u001b[0m in \u001b[0;36m<module>\u001b[0;34m\u001b[0m\n\u001b[1;32m      1\u001b[0m \u001b[0mmillis\u001b[0m \u001b[0;34m=\u001b[0m \u001b[0;36m0\u001b[0m\u001b[0;34m\u001b[0m\u001b[0;34m\u001b[0m\u001b[0m\n\u001b[1;32m      2\u001b[0m \u001b[0;32mwhile\u001b[0m \u001b[0;32mTrue\u001b[0m\u001b[0;34m:\u001b[0m\u001b[0;34m\u001b[0m\u001b[0;34m\u001b[0m\u001b[0m\n\u001b[0;32m----> 3\u001b[0;31m     \u001b[0;32mif\u001b[0m \u001b[0;34m(\u001b[0m\u001b[0mcurr_time\u001b[0m \u001b[0;34m:=\u001b[0m \u001b[0mint\u001b[0m\u001b[0;34m(\u001b[0m\u001b[0mround\u001b[0m\u001b[0;34m(\u001b[0m\u001b[0mtime\u001b[0m\u001b[0;34m.\u001b[0m\u001b[0mtime\u001b[0m\u001b[0;34m(\u001b[0m\u001b[0;34m)\u001b[0m \u001b[0;34m*\u001b[0m \u001b[0;36m1000\u001b[0m\u001b[0;34m)\u001b[0m\u001b[0;34m)\u001b[0m\u001b[0;34m)\u001b[0m \u001b[0;34m>\u001b[0m \u001b[0mmillis\u001b[0m\u001b[0;34m+\u001b[0m\u001b[0;36m50\u001b[0m\u001b[0;34m:\u001b[0m\u001b[0;34m\u001b[0m\u001b[0;34m\u001b[0m\u001b[0m\n\u001b[0m\u001b[1;32m      4\u001b[0m         \u001b[0mmillis\u001b[0m \u001b[0;34m=\u001b[0m \u001b[0mcurr_time\u001b[0m\u001b[0;34m\u001b[0m\u001b[0;34m\u001b[0m\u001b[0m\n\u001b[1;32m      5\u001b[0m         \u001b[0mprint\u001b[0m\u001b[0;34m(\u001b[0m\u001b[0mmillis\u001b[0m\u001b[0;34m,\u001b[0m \u001b[0mend\u001b[0m \u001b[0;34m=\u001b[0m \u001b[0;34m\"\\r\"\u001b[0m\u001b[0;34m)\u001b[0m\u001b[0;34m\u001b[0m\u001b[0;34m\u001b[0m\u001b[0m\n",
      "\u001b[0;31mKeyboardInterrupt\u001b[0m: "
     ]
    }
   ],
   "source": [
    "millis = 0\n",
    "while True:\n",
    "    if (curr_time := int(round(time.time() * 1000))) > millis+50:\n",
    "        millis = curr_time\n",
    "        print(millis, end = \"\\r\")"
   ]
  },
  {
   "cell_type": "code",
   "execution_count": 18,
   "metadata": {},
   "outputs": [
    {
     "name": "stdout",
     "output_type": "stream",
     "text": [
      "1610601058055\r"
     ]
    },
    {
     "ename": "KeyboardInterrupt",
     "evalue": "",
     "output_type": "error",
     "traceback": [
      "\u001b[0;31m---------------------------------------------------------------------------\u001b[0m",
      "\u001b[0;31mKeyboardInterrupt\u001b[0m                         Traceback (most recent call last)",
      "\u001b[0;32m<ipython-input-18-52a4839e9ca3>\u001b[0m in \u001b[0;36m<module>\u001b[0;34m\u001b[0m\n\u001b[1;32m      3\u001b[0m     \u001b[0mcurrent_time\u001b[0m \u001b[0;34m=\u001b[0m \u001b[0mint\u001b[0m\u001b[0;34m(\u001b[0m\u001b[0mround\u001b[0m\u001b[0;34m(\u001b[0m\u001b[0mtime\u001b[0m\u001b[0;34m.\u001b[0m\u001b[0mtime\u001b[0m\u001b[0;34m(\u001b[0m\u001b[0;34m)\u001b[0m \u001b[0;34m*\u001b[0m \u001b[0;36m1000\u001b[0m\u001b[0;34m)\u001b[0m\u001b[0;34m)\u001b[0m\u001b[0;34m\u001b[0m\u001b[0;34m\u001b[0m\u001b[0m\n\u001b[1;32m      4\u001b[0m     \u001b[0mprint\u001b[0m\u001b[0;34m(\u001b[0m\u001b[0mcurrent_time\u001b[0m\u001b[0;34m,\u001b[0m \u001b[0mend\u001b[0m \u001b[0;34m=\u001b[0m \u001b[0;34m\"\\r\"\u001b[0m\u001b[0;34m)\u001b[0m\u001b[0;34m\u001b[0m\u001b[0;34m\u001b[0m\u001b[0m\n\u001b[0;32m----> 5\u001b[0;31m     \u001b[0mtime\u001b[0m\u001b[0;34m.\u001b[0m\u001b[0msleep\u001b[0m\u001b[0;34m(\u001b[0m\u001b[0;36m3\u001b[0m\u001b[0;34m)\u001b[0m\u001b[0;34m\u001b[0m\u001b[0;34m\u001b[0m\u001b[0m\n\u001b[0m",
      "\u001b[0;31mKeyboardInterrupt\u001b[0m: "
     ]
    }
   ],
   "source": [
    "millis = 0\n",
    "while True:\n",
    "    current_time = int(round(time.time() * 1000))\n",
    "    if current_time > millis\n",
    "    print(current_time, end = \"\\r\")\n",
    "    time.sleep(3)"
   ]
  },
  {
   "cell_type": "code",
   "execution_count": null,
   "metadata": {},
   "outputs": [],
   "source": []
  }
 ],
 "metadata": {
  "kernelspec": {
   "display_name": "Python 3",
   "language": "python",
   "name": "python3"
  },
  "language_info": {
   "codemirror_mode": {
    "name": "ipython",
    "version": 3
   },
   "file_extension": ".py",
   "mimetype": "text/x-python",
   "name": "python",
   "nbconvert_exporter": "python",
   "pygments_lexer": "ipython3",
   "version": "3.8.3"
  }
 },
 "nbformat": 4,
 "nbformat_minor": 4
}
